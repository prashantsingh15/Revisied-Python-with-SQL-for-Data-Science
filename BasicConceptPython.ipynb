{
 "cells": [
  {
   "cell_type": "markdown",
   "id": "82f0f0c8-f65d-49e4-9a1b-43e4d5a1db9b",
   "metadata": {},
   "source": [
    "# Python Keywords :- \n",
    "Keywords are the reserved words in python. \n",
    "We can't use a keyword as variable name, function name or any other identifier ...\n",
    "\n",
    "Keywords are case sensitive ...."
   ]
  },
  {
   "cell_type": "code",
   "execution_count": 2,
   "id": "900eae6f-a368-4801-be04-600238a9b3c0",
   "metadata": {},
   "outputs": [
    {
     "name": "stdout",
     "output_type": "stream",
     "text": [
      "['False', 'None', 'True', 'and', 'as', 'assert', 'async', 'await', 'break', 'class', 'continue', 'def', 'del', 'elif', 'else', 'except', 'finally', 'for', 'from', 'global', 'if', 'import', 'in', 'is', 'lambda', 'nonlocal', 'not', 'or', 'pass', 'raise', 'return', 'try', 'while', 'with', 'yield']\n",
      "\n",
      "Total number of keywords:  35\n"
     ]
    }
   ],
   "source": [
    "# Get all keywords in python\n",
    "\n",
    "import keyword\n",
    "print(keyword.kwlist)\n",
    "print(\"\\nTotal number of keywords: \", len(keyword.kwlist))"
   ]
  },
  {
   "cell_type": "markdown",
   "id": "ff54b37b-660f-481d-81f1-b899522beb48",
   "metadata": {},
   "source": [
    "# Identifiers"
   ]
  },
  {
   "cell_type": "markdown",
   "id": "5f9a1291-d487-48b3-bf83-45a9d3290a0d",
   "metadata": {},
   "source": [
    "Identifiers is the name given to entities like class, function, varibales etc. in Python it helps differntiating one entity from another.\n",
    "\n",
    "- Rules for Writing Identifiers:\n",
    "- 1. Identifiers can be a combination of letters in lowercase (a to z) or uppercase (A to Z) or digits (0 to 9) or an underscore(_).\n",
    "  2. An identifier cannot start with a digit. 1Variable is invalid, bt  variable1 is perfectly fine.\n",
    "  3. Keywords cannot be used as identifiers."
   ]
  },
  {
   "cell_type": "code",
   "execution_count": 5,
   "id": "17fbb0a9-5c38-4eea-8016-a0ba38a6aeb9",
   "metadata": {},
   "outputs": [],
   "source": [
    "abc_12 = 12\n"
   ]
  },
  {
   "cell_type": "markdown",
   "id": "453017d0-9cb4-4208-b8b6-d2e0a6577e4e",
   "metadata": {},
   "source": [
    "We cannot use special symbols like !, @, $, % etc. in our identifier.\n"
   ]
  },
  {
   "cell_type": "code",
   "execution_count": 7,
   "id": "3d3c4b76-f878-439c-98e9-3d032c89d35a",
   "metadata": {},
   "outputs": [],
   "source": [
    "# a$ = 10  Can't use a special symbols as an identifier"
   ]
  },
  {
   "cell_type": "code",
   "execution_count": null,
   "id": "284a27c0-ec09-4fe7-8029-bf2925108afd",
   "metadata": {},
   "outputs": [],
   "source": []
  },
  {
   "cell_type": "code",
   "execution_count": null,
   "id": "a3a9dd61-d223-47a4-a165-d3066529de29",
   "metadata": {},
   "outputs": [],
   "source": []
  },
  {
   "cell_type": "code",
   "execution_count": null,
   "id": "b4bade5c-d0f3-4ac2-9582-a14eb9035675",
   "metadata": {},
   "outputs": [],
   "source": []
  },
  {
   "cell_type": "markdown",
   "id": "0960255b-a9dc-4eb0-9839-077508e6408e",
   "metadata": {},
   "source": [
    "# Comments , Indentation and Statement"
   ]
  },
  {
   "cell_type": "markdown",
   "id": "b29a9b70-403c-475c-8221-2efed7cfbf9b",
   "metadata": {},
   "source": [
    "Comments are lines that exist in computer program that are ignored by compilers and interpreters.\n",
    "\n",
    "Including comments in programs makes code more readable for human as it provides some information or explanation about what each part of a program is doing.\n",
    "\n",
    "In general, it is a good idea to write comments while you are writing ot updating a program as it is easy to forget thought process later on and comments written  later may be useful in the long term .."
   ]
  },
  {
   "cell_type": "markdown",
   "id": "e6131818-3601-42f7-8d7f-acff8e1f04cf",
   "metadata": {},
   "source": [
    "In python we use the hash(#) symbol to start writing a comment."
   ]
  },
  {
   "cell_type": "code",
   "execution_count": 10,
   "id": "a1628a53-6a2d-44a0-b396-a61010a910b9",
   "metadata": {},
   "outputs": [
    {
     "name": "stdout",
     "output_type": "stream",
     "text": [
      "Hello, World\n"
     ]
    }
   ],
   "source": [
    "# Print Hello, world to Console\n",
    "\n",
    "print(\"Hello, World\")"
   ]
  },
  {
   "cell_type": "markdown",
   "id": "f9bdb516-e41b-4dd1-8093-d0fb13bf5122",
   "metadata": {},
   "source": [
    " # Multiline Comments\n",
    "\n",
    " - If we have comments that extend multiple lines, one way of doing it is to use hash (#) in the begining of each line."
   ]
  },
  {
   "cell_type": "code",
   "execution_count": 12,
   "id": "3fc43063-fa99-46fd-a611-cd2cc54dacc8",
   "metadata": {},
   "outputs": [],
   "source": [
    "# This is a long comment\n",
    "# and it extends \n",
    "# Multiple lines \n",
    "\n"
   ]
  },
  {
   "cell_type": "markdown",
   "id": "ac08cc37-7e6e-4ce5-9c8a-cabc630284e2",
   "metadata": {},
   "source": [
    "Another way of doing this is to use triple quotes, either ''' or \"\"\""
   ]
  },
  {
   "cell_type": "code",
   "execution_count": 13,
   "id": "27120f7c-887e-42f0-9828-3e4c42c098cd",
   "metadata": {},
   "outputs": [
    {
     "data": {
      "text/plain": [
       "'This is the Multiline Comment\\nand it is useful for long sentances where we want to \\ncomment out a long paragraph...\\n\\n'"
      ]
     },
     "execution_count": 13,
     "metadata": {},
     "output_type": "execute_result"
    }
   ],
   "source": [
    "\"\"\"This is the Multiline Comment\n",
    "and it is useful for long sentances where we want to \n",
    "comment out a long paragraph...\n",
    "\n",
    "\"\"\""
   ]
  },
  {
   "cell_type": "markdown",
   "id": "cfcd79bf-5cf5-4a00-b166-da14c80c8e0f",
   "metadata": {},
   "source": [
    "# Python Indentation\n",
    "\n",
    "- 1. Most of the programming languages like c, c++, java use braces {} to define a block of code .\n",
    "  2. A code block (body of a function, loop,etc). starts with indentation and ends with the first unindented line . The amount of indentatuin is up to you, but it must be consistent throughout that bloc.\n",
    "  3. Generally four whitespaces are used for indentation and is preferred over tabs."
   ]
  },
  {
   "cell_type": "code",
   "execution_count": 18,
   "id": "908c3083-f10e-4d82-b42a-589f98c70395",
   "metadata": {},
   "outputs": [
    {
     "name": "stdout",
     "output_type": "stream",
     "text": [
      "0\n",
      "2\n",
      "4\n",
      "6\n",
      "8\n",
      "10\n",
      "12\n",
      "14\n",
      "16\n",
      "18\n",
      "100\n"
     ]
    }
   ],
   "source": [
    "for i in range(10):\n",
    "    print(i)\n",
    "    print (i*2)\n",
    "\n",
    "print(100)"
   ]
  },
  {
   "cell_type": "code",
   "execution_count": null,
   "id": "26933bbd-5e36-40c5-83b6-162cb1748387",
   "metadata": {},
   "outputs": [],
   "source": []
  }
 ],
 "metadata": {
  "kernelspec": {
   "display_name": "Python 3 (ipykernel)",
   "language": "python",
   "name": "python3"
  },
  "language_info": {
   "codemirror_mode": {
    "name": "ipython",
    "version": 3
   },
   "file_extension": ".py",
   "mimetype": "text/x-python",
   "name": "python",
   "nbconvert_exporter": "python",
   "pygments_lexer": "ipython3",
   "version": "3.10.13"
  }
 },
 "nbformat": 4,
 "nbformat_minor": 5
}
